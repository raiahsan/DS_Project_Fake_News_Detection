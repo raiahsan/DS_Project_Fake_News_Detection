{
 "cells": [
  {
   "cell_type": "code",
   "execution_count": 6,
   "metadata": {},
   "outputs": [],
   "source": [
    "import pandas as pd\n",
    "import torch\n",
    "import numpy as np\n",
    "from textblob import TextBlob\n",
    "from transformers import AutoTokenizer\n",
    "from datasets import Dataset as HFDataset\n",
    "import matplotlib.pyplot as plt\n",
    "import seaborn as sns"
   ]
  },
  {
   "cell_type": "code",
   "execution_count": 2,
   "metadata": {},
   "outputs": [],
   "source": [
    "# ✅ Load dataset paths\n",
    "train_path = \"data/train.tsv\"\n",
    "valid_path = \"data/valid.tsv\"\n",
    "test_path = \"data/test.tsv\""
   ]
  },
  {
   "cell_type": "code",
   "execution_count": 3,
   "metadata": {},
   "outputs": [],
   "source": [
    "# ✅ Label mapping (Convert to Binary: 1=True, 0=False)\n",
    "LABEL_MAPPING = {\n",
    "    \"true\": 1, \"mostly-true\": 1,\n",
    "    \"half-true\": 0, \"barely-true\": 0, \"false\": 0, \"pants-fire\": 0\n",
    "}"
   ]
  },
  {
   "cell_type": "code",
   "execution_count": 4,
   "metadata": {},
   "outputs": [],
   "source": [
    "# ✅ Function to preprocess dataset\n",
    "def preprocess_data(file_path):\n",
    "    df = pd.read_csv(file_path, sep='\\t', header=None)\n",
    "    df.columns = [\"id\", \"label\", \"statement\", \"subject\", \"speaker\", \"job\", \"state\", \"party\",\n",
    "                  \"context1\", \"context2\", \"context3\", \"context4\", \"context5\", \"source\"]\n",
    "    \n",
    "    # Convert Labels to Binary (1=True, 0=False)\n",
    "    df[\"label\"] = df[\"label\"].map(LABEL_MAPPING)\n",
    "    \n",
    "    # Handle missing values (replace empty cells with \"unknown\")\n",
    "    df.fillna(\"unknown\", inplace=True)\n",
    "\n",
    "    # Add Sentiment Score (extra feature)\n",
    "    df[\"sentiment\"] = df[\"statement\"].apply(lambda x: TextBlob(str(x)).sentiment.polarity)\n",
    "\n",
    "    return df\n"
   ]
  },
  {
   "cell_type": "code",
   "execution_count": 5,
   "metadata": {},
   "outputs": [
    {
     "name": "stdout",
     "output_type": "stream",
     "text": [
      "Train Shape: (10240, 15), Valid Shape: (1284, 15), Test Shape: (1267, 15)\n",
      "           id  label                                          statement  \\\n",
      "0   2635.json      0  Says the Annies List political group supports ...   \n",
      "1  10540.json      0  When did the decline of coal start? It started...   \n",
      "2    324.json      1  Hillary Clinton agrees with John McCain \"by vo...   \n",
      "3   1123.json      0  Health care reform legislation is likely to ma...   \n",
      "4   9028.json      0  The economic turnaround started at the end of ...   \n",
      "\n",
      "                              subject         speaker                   job  \\\n",
      "0                            abortion    dwayne-bohac  State representative   \n",
      "1  energy,history,job-accomplishments  scott-surovell        State delegate   \n",
      "2                      foreign-policy    barack-obama             President   \n",
      "3                         health-care    blog-posting               unknown   \n",
      "4                        economy,jobs   charlie-crist               unknown   \n",
      "\n",
      "      state       party context1 context2 context3 context4 context5  \\\n",
      "0     Texas  republican      0.0      1.0      0.0      0.0      0.0   \n",
      "1  Virginia    democrat      0.0      0.0      1.0      1.0      0.0   \n",
      "2  Illinois    democrat     70.0     71.0    160.0    163.0      9.0   \n",
      "3   unknown        none      7.0     19.0      3.0      5.0     44.0   \n",
      "4   Florida    democrat     15.0      9.0     20.0     19.0      2.0   \n",
      "\n",
      "                source  sentiment  \n",
      "0             a mailer        0.0  \n",
      "1      a floor speech.        0.1  \n",
      "2               Denver        0.0  \n",
      "3       a news release        0.2  \n",
      "4  an interview on CNN        0.2  \n"
     ]
    }
   ],
   "source": [
    "# ✅ Load & Process Datasets\n",
    "train_df = preprocess_data(train_path)\n",
    "valid_df = preprocess_data(valid_path)\n",
    "test_df = preprocess_data(test_path)\n",
    "\n",
    "# ✅ Print dataset stats\n",
    "print(f\"Train Shape: {train_df.shape}, Valid Shape: {valid_df.shape}, Test Shape: {test_df.shape}\")\n",
    "print(train_df.head())"
   ]
  },
  {
   "cell_type": "code",
   "execution_count": 7,
   "metadata": {},
   "outputs": [],
   "source": [
    "def create_three_key_visualizations(train_df, valid_df, test_df):\n",
    "    # Combine all datasets for overall analysis\n",
    "    all_df = pd.concat([train_df, valid_df, test_df], axis=0)\n",
    "    \n",
    "    # 1. Class Distribution with percentages\n",
    "    plt.figure(figsize=(10, 6))\n",
    "    ax = sns.countplot(x='label', data=all_df, palette=['#FF5555', '#55BB55'])\n",
    "    \n",
    "    # Calculate percentages for labels\n",
    "    total = len(all_df)\n",
    "    for p in ax.patches:\n",
    "        count = p.get_height()\n",
    "        percentage = f'{count} ({count/total*100:.1f}%)'\n",
    "        ax.annotate(percentage, \n",
    "                   (p.get_x() + p.get_width() / 2., p.get_height()),\n",
    "                   ha='center', va='bottom', fontsize=12)\n",
    "    \n",
    "    plt.title('Distribution of True vs False Claims', fontsize=16)\n",
    "    plt.xlabel('Label (1=True, 0=False)', fontsize=14)\n",
    "    plt.ylabel('Count', fontsize=14)\n",
    "    plt.tight_layout()\n",
    "    plt.show()\n",
    "    \n",
    "    # 2. Correlation Heatmap between key features\n",
    "    plt.figure(figsize=(12, 10))\n",
    "    \n",
    "    # Add statement length as a feature\n",
    "    all_df['statement_length'] = all_df['statement'].apply(lambda x: len(str(x).split()))\n",
    "    \n",
    "    # Select relevant columns for correlation analysis\n",
    "    selected_cols = ['label', 'sentiment', 'statement_length', \n",
    "                     'context1', 'context2', 'context3', 'context4', 'context5']\n",
    "    \n",
    "    # Create correlation matrix\n",
    "    corr_matrix = all_df[selected_cols].corr()\n",
    "    \n",
    "    # Create heatmap\n",
    "    sns.heatmap(corr_matrix, annot=True, cmap='coolwarm', fmt=\".2f\", \n",
    "                linewidths=0.5, cbar_kws={\"shrink\": .8})\n",
    "    \n",
    "    plt.title('Correlation Heatmap of Features', fontsize=16)\n",
    "    plt.tight_layout()\n",
    "    plt.show()\n",
    "    \n",
    "    # 3. True vs False distribution by political party\n",
    "    plt.figure(figsize=(14, 8))\n",
    "    \n",
    "    # Get major parties (with more than 100 statements)\n",
    "    party_counts = all_df['party'].value_counts()\n",
    "    major_parties = party_counts[party_counts > 100].index.tolist()\n",
    "    party_df = all_df[all_df['party'].isin(major_parties)]\n",
    "    \n",
    "    # Create cross-tabulation and calculate percentages\n",
    "    party_truth = pd.crosstab(party_df['party'], party_df['label'])\n",
    "    party_truth_pct = party_truth.div(party_truth.sum(axis=1), axis=0) * 100\n",
    "    \n",
    "    # Plot stacked bar chart\n",
    "    ax = party_truth_pct.plot(kind='bar', stacked=True, \n",
    "                             colormap='coolwarm', figsize=(12, 7))\n",
    "    \n",
    "    # Add value labels on bars\n",
    "    for c in ax.containers:\n",
    "        labels = [f'{v:.1f}%' if v > 5 else '' for v in c.datavalues]\n",
    "        ax.bar_label(c, labels=labels, label_type='center')\n",
    "    \n",
    "    plt.title('Percentage of True vs False Claims by Political Party', fontsize=16)\n",
    "    plt.xlabel('Political Party', fontsize=14)\n",
    "    plt.ylabel('Percentage', fontsize=14)\n",
    "    plt.legend(['False', 'True'])\n",
    "    plt.xticks(rotation=45)\n",
    "    plt.tight_layout()\n",
    "    plt.show()"
   ]
  },
  {
   "cell_type": "code",
   "execution_count": 8,
   "metadata": {},
   "outputs": [
    {
     "name": "stderr",
     "output_type": "stream",
     "text": [
      "C:\\Users\\M. Hamza Khalid\\AppData\\Local\\Temp\\ipykernel_14168\\3683117246.py:7: FutureWarning: \n",
      "\n",
      "Passing `palette` without assigning `hue` is deprecated and will be removed in v0.14.0. Assign the `x` variable to `hue` and set `legend=False` for the same effect.\n",
      "\n",
      "  ax = sns.countplot(x='label', data=all_df, palette=['#FF5555', '#55BB55'])\n"
     ]
    },
    {
     "data": {
      "image/png": "[encoded data removed]",
      "text/plain": [
       "<Figure size 1000x600 with 1 Axes>"
      ]
     },
     "metadata": {},
     "output_type": "display_data"
    },
    {
     "data": {
      "image/png": "[encoded data removed]",
      "text/plain": [
       "<Figure size 1200x1000 with 2 Axes>"
      ]
     },
     "metadata": {},
     "output_type": "display_data"
    },
    {
     "data": {
      "text/plain": [
       "<Figure size 1400x800 with 0 Axes>"
      ]
     },
     "metadata": {},
     "output_type": "display_data"
    },
    {
     "data": {
      "image/png": "[encoded data removed]",
      "text/plain": [
       "<Figure size 1200x700 with 1 Axes>"
      ]
     },
     "metadata": {},
     "output_type": "display_data"
    }
   ],
   "source": [
    "create_three_key_visualizations(train_df, valid_df, test_df)"
   ]
  },
  {
   "cell_type": "code",
   "execution_count": 16,
   "metadata": {},
   "outputs": [
    {
     "name": "stderr",
     "output_type": "stream",
     "text": [
      "Some weights of BertForSequenceClassification were not initialized from the model checkpoint at bert-base-uncased and are newly initialized: ['classifier.bias', 'classifier.weight']\n",
      "You should probably TRAIN this model on a down-stream task to be able to use it for predictions and inference.\n",
      "Map: 100%|██████████| 10240/10240 [00:01<00:00, 9491.81 examples/s]\n",
      "Map: 100%|██████████| 1284/1284 [00:00<00:00, 9341.92 examples/s]\n",
      "c:\\Users\\M. Hamza Khalid\\AppData\\Local\\Programs\\Python\\Python38\\lib\\site-packages\\transformers\\training_args.py:1568: FutureWarning: `evaluation_strategy` is deprecated and will be removed in version 4.46 of 🤗 Transformers. Use `eval_strategy` instead\n",
      "  warnings.warn(\n",
      "C:\\Users\\M. Hamza Khalid\\AppData\\Local\\Temp\\ipykernel_16188\\3036579469.py:38: FutureWarning: `tokenizer` is deprecated and will be removed in version 5.0.0 for `Trainer.__init__`. Use `processing_class` instead.\n",
      "  trainer = Trainer(\n",
      "  0%|          | 0/1280 [00:00<?, ?it/s]c:\\Users\\M. Hamza Khalid\\AppData\\Local\\Programs\\Python\\Python38\\lib\\site-packages\\transformers\\models\\bert\\modeling_bert.py:440: UserWarning: 1Torch was not compiled with flash attention. (Triggered internally at C:\\actions-runner\\_work\\pytorch\\pytorch\\builder\\windows\\pytorch\\aten\\src\\ATen\\native\\transformers\\cuda\\sdp_utils.cpp:555.)\n",
      "  attn_output = torch.nn.functional.scaled_dot_product_attention(\n",
      "  2%|▏         | 20/1280 [00:09<05:03,  4.15it/s] "
     ]
    },
    {
     "name": "stdout",
     "output_type": "stream",
     "text": [
      "{'loss': 0.6622, 'grad_norm': 7.155488967895508, 'learning_rate': 1.9703125e-05, 'epoch': 0.06}\n"
     ]
    },
    {
     "name": "stderr",
     "output_type": "stream",
     "text": [
      "  3%|▎         | 40/1280 [00:14<04:51,  4.26it/s]"
     ]
    },
    {
     "name": "stdout",
     "output_type": "stream",
     "text": [
      "{'loss': 0.6603, 'grad_norm': 2.4822514057159424, 'learning_rate': 1.9390625000000002e-05, 'epoch': 0.12}\n"
     ]
    },
    {
     "name": "stderr",
     "output_type": "stream",
     "text": [
      "  5%|▍         | 60/1280 [00:19<04:49,  4.21it/s]"
     ]
    },
    {
     "name": "stdout",
     "output_type": "stream",
     "text": [
      "{'loss': 0.643, 'grad_norm': 3.059074878692627, 'learning_rate': 1.9078125e-05, 'epoch': 0.19}\n"
     ]
    },
    {
     "name": "stderr",
     "output_type": "stream",
     "text": [
      "  6%|▋         | 80/1280 [00:23<04:43,  4.23it/s]"
     ]
    },
    {
     "name": "stdout",
     "output_type": "stream",
     "text": [
      "{'loss': 0.622, 'grad_norm': 4.7503509521484375, 'learning_rate': 1.8765625e-05, 'epoch': 0.25}\n"
     ]
    },
    {
     "name": "stderr",
     "output_type": "stream",
     "text": [
      "  8%|▊         | 100/1280 [00:28<04:39,  4.21it/s]"
     ]
    },
    {
     "name": "stdout",
     "output_type": "stream",
     "text": [
      "{'loss': 0.6242, 'grad_norm': 5.443256378173828, 'learning_rate': 1.8453125e-05, 'epoch': 0.31}\n"
     ]
    },
    {
     "name": "stderr",
     "output_type": "stream",
     "text": [
      "  9%|▉         | 120/1280 [00:33<04:35,  4.21it/s]"
     ]
    },
    {
     "name": "stdout",
     "output_type": "stream",
     "text": [
      "{'loss': 0.6136, 'grad_norm': 5.62962007522583, 'learning_rate': 1.8140625000000002e-05, 'epoch': 0.38}\n"
     ]
    },
    {
     "name": "stderr",
     "output_type": "stream",
     "text": [
      " 11%|█         | 140/1280 [00:38<04:37,  4.11it/s]"
     ]
    },
    {
     "name": "stdout",
     "output_type": "stream",
     "text": [
      "{'loss': 0.6202, 'grad_norm': 3.3084397315979004, 'learning_rate': 1.7828125e-05, 'epoch': 0.44}\n"
     ]
    },
    {
     "name": "stderr",
     "output_type": "stream",
     "text": [
      " 12%|█▎        | 160/1280 [00:43<04:32,  4.11it/s]"
     ]
    },
    {
     "name": "stdout",
     "output_type": "stream",
     "text": [
      "{'loss': 0.6255, 'grad_norm': 7.254515171051025, 'learning_rate': 1.7515625e-05, 'epoch': 0.5}\n"
     ]
    },
    {
     "name": "stderr",
     "output_type": "stream",
     "text": [
      " 14%|█▍        | 180/1280 [00:47<04:25,  4.14it/s]"
     ]
    },
    {
     "name": "stdout",
     "output_type": "stream",
     "text": [
      "{'loss': 0.6424, 'grad_norm': 3.8812546730041504, 'learning_rate': 1.7203125e-05, 'epoch': 0.56}\n"
     ]
    },
    {
     "name": "stderr",
     "output_type": "stream",
     "text": [
      " 16%|█▌        | 200/1280 [00:52<04:22,  4.11it/s]"
     ]
    },
    {
     "name": "stdout",
     "output_type": "stream",
     "text": [
      "{'loss': 0.6302, 'grad_norm': 3.2774336338043213, 'learning_rate': 1.6890625e-05, 'epoch': 0.62}\n"
     ]
    },
    {
     "name": "stderr",
     "output_type": "stream",
     "text": [
      " 17%|█▋        | 220/1280 [00:57<04:10,  4.23it/s]"
     ]
    },
    {
     "name": "stdout",
     "output_type": "stream",
     "text": [
      "{'loss': 0.6065, 'grad_norm': 4.175429821014404, 'learning_rate': 1.6578125e-05, 'epoch': 0.69}\n"
     ]
    },
    {
     "name": "stderr",
     "output_type": "stream",
     "text": [
      " 19%|█▉        | 240/1280 [01:02<03:50,  4.52it/s]"
     ]
    },
    {
     "name": "stdout",
     "output_type": "stream",
     "text": [
      "{'loss': 0.6288, 'grad_norm': 3.8225209712982178, 'learning_rate': 1.6265625e-05, 'epoch': 0.75}\n"
     ]
    },
    {
     "name": "stderr",
     "output_type": "stream",
     "text": [
      " 20%|██        | 260/1280 [01:06<04:01,  4.22it/s]"
     ]
    },
    {
     "name": "stdout",
     "output_type": "stream",
     "text": [
      "{'loss': 0.6052, 'grad_norm': 3.098179817199707, 'learning_rate': 1.5953125e-05, 'epoch': 0.81}\n"
     ]
    },
    {
     "name": "stderr",
     "output_type": "stream",
     "text": [
      " 22%|██▏       | 280/1280 [01:11<03:57,  4.22it/s]"
     ]
    },
    {
     "name": "stdout",
     "output_type": "stream",
     "text": [
      "{'loss': 0.6251, 'grad_norm': 3.640803813934326, 'learning_rate': 1.5640625e-05, 'epoch': 0.88}\n"
     ]
    },
    {
     "name": "stderr",
     "output_type": "stream",
     "text": [
      " 23%|██▎       | 300/1280 [01:16<03:57,  4.12it/s]"
     ]
    },
    {
     "name": "stdout",
     "output_type": "stream",
     "text": [
      "{'loss': 0.6059, 'grad_norm': 3.245295286178589, 'learning_rate': 1.5328125e-05, 'epoch': 0.94}\n"
     ]
    },
    {
     "name": "stderr",
     "output_type": "stream",
     "text": [
      " 25%|██▌       | 320/1280 [01:21<03:48,  4.21it/s]"
     ]
    },
    {
     "name": "stdout",
     "output_type": "stream",
     "text": [
      "{'loss': 0.6243, 'grad_norm': 4.577244758605957, 'learning_rate': 1.5015625e-05, 'epoch': 1.0}\n"
     ]
    },
    {
     "name": "stderr",
     "output_type": "stream",
     "text": [
      "\n",
      " 25%|██▌       | 320/1280 [01:23<03:48,  4.21it/s]"
     ]
    },
    {
     "name": "stdout",
     "output_type": "stream",
     "text": [
      "{'eval_loss': 0.5957302451133728, 'eval_runtime': 2.6574, 'eval_samples_per_second': 483.177, 'eval_steps_per_second': 30.481, 'epoch': 1.0}\n"
     ]
    },
    {
     "name": "stderr",
     "output_type": "stream",
     "text": [
      " 27%|██▋       | 340/1280 [01:29<03:48,  4.12it/s]"
     ]
    },
    {
     "name": "stdout",
     "output_type": "stream",
     "text": [
      "{'loss': 0.5829, 'grad_norm': 4.805421352386475, 'learning_rate': 1.4703125e-05, 'epoch': 1.06}\n"
     ]
    },
    {
     "name": "stderr",
     "output_type": "stream",
     "text": [
      " 28%|██▊       | 360/1280 [01:34<03:39,  4.20it/s]"
     ]
    },
    {
     "name": "stdout",
     "output_type": "stream",
     "text": [
      "{'loss': 0.5942, 'grad_norm': 4.06509256362915, 'learning_rate': 1.4390625e-05, 'epoch': 1.12}\n"
     ]
    },
    {
     "name": "stderr",
     "output_type": "stream",
     "text": [
      " 30%|██▉       | 380/1280 [01:39<03:33,  4.22it/s]"
     ]
    },
    {
     "name": "stdout",
     "output_type": "stream",
     "text": [
      "{'loss': 0.6033, 'grad_norm': 5.453989505767822, 'learning_rate': 1.4078125e-05, 'epoch': 1.19}\n"
     ]
    },
    {
     "name": "stderr",
     "output_type": "stream",
     "text": [
      " 31%|███▏      | 400/1280 [01:43<03:04,  4.77it/s]"
     ]
    },
    {
     "name": "stdout",
     "output_type": "stream",
     "text": [
      "{'loss': 0.594, 'grad_norm': 4.869706630706787, 'learning_rate': 1.3765625000000001e-05, 'epoch': 1.25}\n"
     ]
    },
    {
     "name": "stderr",
     "output_type": "stream",
     "text": [
      " 33%|███▎      | 420/1280 [01:47<02:59,  4.78it/s]"
     ]
    },
    {
     "name": "stdout",
     "output_type": "stream",
     "text": [
      "{'loss': 0.561, 'grad_norm': 8.497040748596191, 'learning_rate': 1.3453125e-05, 'epoch': 1.31}\n"
     ]
    },
    {
     "name": "stderr",
     "output_type": "stream",
     "text": [
      " 34%|███▍      | 440/1280 [01:52<02:58,  4.72it/s]"
     ]
    },
    {
     "name": "stdout",
     "output_type": "stream",
     "text": [
      "{'loss': 0.5819, 'grad_norm': 6.402297496795654, 'learning_rate': 1.3140625000000001e-05, 'epoch': 1.38}\n"
     ]
    },
    {
     "name": "stderr",
     "output_type": "stream",
     "text": [
      " 36%|███▌      | 460/1280 [01:56<02:57,  4.63it/s]"
     ]
    },
    {
     "name": "stdout",
     "output_type": "stream",
     "text": [
      "{'loss': 0.5819, 'grad_norm': 6.328868389129639, 'learning_rate': 1.2828125e-05, 'epoch': 1.44}\n"
     ]
    },
    {
     "name": "stderr",
     "output_type": "stream",
     "text": [
      " 38%|███▊      | 480/1280 [02:01<03:10,  4.19it/s]"
     ]
    },
    {
     "name": "stdout",
     "output_type": "stream",
     "text": [
      "{'loss': 0.5721, 'grad_norm': 9.969974517822266, 'learning_rate': 1.2515625000000001e-05, 'epoch': 1.5}\n"
     ]
    },
    {
     "name": "stderr",
     "output_type": "stream",
     "text": [
      " 39%|███▉      | 500/1280 [02:05<03:05,  4.20it/s]"
     ]
    },
    {
     "name": "stdout",
     "output_type": "stream",
     "text": [
      "{'loss': 0.554, 'grad_norm': 5.991413116455078, 'learning_rate': 1.2203125e-05, 'epoch': 1.56}\n"
     ]
    },
    {
     "name": "stderr",
     "output_type": "stream",
     "text": [
      " 41%|████      | 520/1280 [02:10<03:00,  4.21it/s]"
     ]
    },
    {
     "name": "stdout",
     "output_type": "stream",
     "text": [
      "{'loss': 0.5561, 'grad_norm': 7.809871673583984, 'learning_rate': 1.1890625e-05, 'epoch': 1.62}\n"
     ]
    },
    {
     "name": "stderr",
     "output_type": "stream",
     "text": [
      " 42%|████▏     | 540/1280 [02:15<02:43,  4.53it/s]"
     ]
    },
    {
     "name": "stdout",
     "output_type": "stream",
     "text": [
      "{'loss': 0.5368, 'grad_norm': 9.370941162109375, 'learning_rate': 1.1578125e-05, 'epoch': 1.69}\n"
     ]
    },
    {
     "name": "stderr",
     "output_type": "stream",
     "text": [
      " 44%|████▍     | 561/1280 [02:19<02:25,  4.94it/s]"
     ]
    },
    {
     "name": "stdout",
     "output_type": "stream",
     "text": [
      "{'loss': 0.5441, 'grad_norm': 5.813290596008301, 'learning_rate': 1.1265625e-05, 'epoch': 1.75}\n"
     ]
    },
    {
     "name": "stderr",
     "output_type": "stream",
     "text": [
      " 45%|████▌     | 580/1280 [02:23<02:20,  4.98it/s]"
     ]
    },
    {
     "name": "stdout",
     "output_type": "stream",
     "text": [
      "{'loss': 0.5706, 'grad_norm': 8.54934024810791, 'learning_rate': 1.0953125e-05, 'epoch': 1.81}\n"
     ]
    },
    {
     "name": "stderr",
     "output_type": "stream",
     "text": [
      " 47%|████▋     | 601/1280 [02:27<02:16,  4.97it/s]"
     ]
    },
    {
     "name": "stdout",
     "output_type": "stream",
     "text": [
      "{'loss': 0.5381, 'grad_norm': 5.491683006286621, 'learning_rate': 1.0640625e-05, 'epoch': 1.88}\n"
     ]
    },
    {
     "name": "stderr",
     "output_type": "stream",
     "text": [
      " 49%|████▊     | 621/1280 [02:31<02:13,  4.95it/s]"
     ]
    },
    {
     "name": "stdout",
     "output_type": "stream",
     "text": [
      "{'loss': 0.5419, 'grad_norm': 6.381228446960449, 'learning_rate': 1.0328125e-05, 'epoch': 1.94}\n"
     ]
    },
    {
     "name": "stderr",
     "output_type": "stream",
     "text": [
      " 50%|█████     | 640/1280 [02:35<02:07,  5.01it/s]"
     ]
    },
    {
     "name": "stdout",
     "output_type": "stream",
     "text": [
      "{'loss': 0.5527, 'grad_norm': 8.700156211853027, 'learning_rate': 1.0015625e-05, 'epoch': 2.0}\n"
     ]
    },
    {
     "name": "stderr",
     "output_type": "stream",
     "text": [
      "                                                  \n",
      " 50%|█████     | 640/1280 [02:37<02:07,  5.01it/s]"
     ]
    },
    {
     "name": "stdout",
     "output_type": "stream",
     "text": [
      "{'eval_loss': 0.5989968180656433, 'eval_runtime': 2.213, 'eval_samples_per_second': 580.21, 'eval_steps_per_second': 36.602, 'epoch': 2.0}\n"
     ]
    },
    {
     "name": "stderr",
     "output_type": "stream",
     "text": [
      " 52%|█████▏    | 660/1280 [02:42<02:05,  4.95it/s]"
     ]
    },
    {
     "name": "stdout",
     "output_type": "stream",
     "text": [
      "{'loss': 0.45, 'grad_norm': 7.364006519317627, 'learning_rate': 9.703125e-06, 'epoch': 2.06}\n"
     ]
    },
    {
     "name": "stderr",
     "output_type": "stream",
     "text": [
      " 53%|█████▎    | 681/1280 [02:47<02:00,  4.95it/s]"
     ]
    },
    {
     "name": "stdout",
     "output_type": "stream",
     "text": [
      "{'loss': 0.4336, 'grad_norm': 9.874244689941406, 'learning_rate': 9.390625000000001e-06, 'epoch': 2.12}\n"
     ]
    },
    {
     "name": "stderr",
     "output_type": "stream",
     "text": [
      " 55%|█████▍    | 701/1280 [02:51<01:57,  4.94it/s]"
     ]
    },
    {
     "name": "stdout",
     "output_type": "stream",
     "text": [
      "{'loss': 0.4815, 'grad_norm': 9.52027416229248, 'learning_rate': 9.078125e-06, 'epoch': 2.19}\n"
     ]
    },
    {
     "name": "stderr",
     "output_type": "stream",
     "text": [
      " 56%|█████▋    | 721/1280 [02:55<01:52,  4.95it/s]"
     ]
    },
    {
     "name": "stdout",
     "output_type": "stream",
     "text": [
      "{'loss': 0.4586, 'grad_norm': 11.36104679107666, 'learning_rate': 8.765625000000001e-06, 'epoch': 2.25}\n"
     ]
    },
    {
     "name": "stderr",
     "output_type": "stream",
     "text": [
      " 58%|█████▊    | 740/1280 [02:58<01:48,  4.98it/s]"
     ]
    },
    {
     "name": "stdout",
     "output_type": "stream",
     "text": [
      "{'loss': 0.4521, 'grad_norm': 9.247050285339355, 'learning_rate': 8.453125e-06, 'epoch': 2.31}\n"
     ]
    },
    {
     "name": "stderr",
     "output_type": "stream",
     "text": [
      " 59%|█████▉    | 761/1280 [03:03<01:44,  4.96it/s]"
     ]
    },
    {
     "name": "stdout",
     "output_type": "stream",
     "text": [
      "{'loss': 0.4742, 'grad_norm': 16.83572769165039, 'learning_rate': 8.140625000000001e-06, 'epoch': 2.38}\n"
     ]
    },
    {
     "name": "stderr",
     "output_type": "stream",
     "text": [
      " 61%|██████    | 781/1280 [03:07<01:40,  4.95it/s]"
     ]
    },
    {
     "name": "stdout",
     "output_type": "stream",
     "text": [
      "{'loss': 0.4717, 'grad_norm': 13.644283294677734, 'learning_rate': 7.828125e-06, 'epoch': 2.44}\n"
     ]
    },
    {
     "name": "stderr",
     "output_type": "stream",
     "text": [
      " 63%|██████▎   | 801/1280 [03:11<01:36,  4.95it/s]"
     ]
    },
    {
     "name": "stdout",
     "output_type": "stream",
     "text": [
      "{'loss': 0.4221, 'grad_norm': 11.410414695739746, 'learning_rate': 7.5156250000000006e-06, 'epoch': 2.5}\n"
     ]
    },
    {
     "name": "stderr",
     "output_type": "stream",
     "text": [
      " 64%|██████▍   | 821/1280 [03:15<01:32,  4.95it/s]"
     ]
    },
    {
     "name": "stdout",
     "output_type": "stream",
     "text": [
      "{'loss': 0.4589, 'grad_norm': 14.438671112060547, 'learning_rate': 7.203125000000001e-06, 'epoch': 2.56}\n"
     ]
    },
    {
     "name": "stderr",
     "output_type": "stream",
     "text": [
      " 66%|██████▌   | 840/1280 [03:18<01:28,  4.99it/s]"
     ]
    },
    {
     "name": "stdout",
     "output_type": "stream",
     "text": [
      "{'loss': 0.4453, 'grad_norm': 14.455389976501465, 'learning_rate': 6.906250000000001e-06, 'epoch': 2.62}\n"
     ]
    },
    {
     "name": "stderr",
     "output_type": "stream",
     "text": [
      " 67%|██████▋   | 861/1280 [03:23<01:47,  3.90it/s]"
     ]
    },
    {
     "name": "stdout",
     "output_type": "stream",
     "text": [
      "{'loss': 0.4735, 'grad_norm': 23.527849197387695, 'learning_rate': 6.593750000000001e-06, 'epoch': 2.69}\n"
     ]
    },
    {
     "name": "stderr",
     "output_type": "stream",
     "text": [
      " 69%|██████▉   | 881/1280 [03:27<01:23,  4.76it/s]"
     ]
    },
    {
     "name": "stdout",
     "output_type": "stream",
     "text": [
      "{'loss': 0.4281, 'grad_norm': 10.154413223266602, 'learning_rate': 6.281250000000001e-06, 'epoch': 2.75}\n"
     ]
    },
    {
     "name": "stderr",
     "output_type": "stream",
     "text": [
      " 70%|███████   | 900/1280 [03:31<01:28,  4.31it/s]"
     ]
    },
    {
     "name": "stdout",
     "output_type": "stream",
     "text": [
      "{'loss': 0.474, 'grad_norm': 13.564324378967285, 'learning_rate': 5.968750000000001e-06, 'epoch': 2.81}\n"
     ]
    },
    {
     "name": "stderr",
     "output_type": "stream",
     "text": [
      " 72%|███████▏  | 920/1280 [03:36<01:17,  4.64it/s]"
     ]
    },
    {
     "name": "stdout",
     "output_type": "stream",
     "text": [
      "{'loss': 0.4499, 'grad_norm': 16.048105239868164, 'learning_rate': 5.656250000000001e-06, 'epoch': 2.88}\n"
     ]
    },
    {
     "name": "stderr",
     "output_type": "stream",
     "text": [
      " 74%|███████▎  | 941/1280 [03:40<01:11,  4.74it/s]"
     ]
    },
    {
     "name": "stdout",
     "output_type": "stream",
     "text": [
      "{'loss': 0.4157, 'grad_norm': 10.619783401489258, 'learning_rate': 5.343750000000001e-06, 'epoch': 2.94}\n"
     ]
    },
    {
     "name": "stderr",
     "output_type": "stream",
     "text": [
      " 75%|███████▌  | 960/1280 [03:44<01:06,  4.78it/s]"
     ]
    },
    {
     "name": "stdout",
     "output_type": "stream",
     "text": [
      "{'loss': 0.4391, 'grad_norm': 20.176366806030273, 'learning_rate': 5.031250000000001e-06, 'epoch': 3.0}\n"
     ]
    },
    {
     "name": "stderr",
     "output_type": "stream",
     "text": [
      "                                                  \n",
      " 75%|███████▌  | 960/1280 [03:47<01:06,  4.78it/s]"
     ]
    },
    {
     "name": "stdout",
     "output_type": "stream",
     "text": [
      "{'eval_loss': 0.6794624328613281, 'eval_runtime': 2.3022, 'eval_samples_per_second': 557.735, 'eval_steps_per_second': 35.184, 'epoch': 3.0}\n"
     ]
    },
    {
     "name": "stderr",
     "output_type": "stream",
     "text": [
      " 77%|███████▋  | 980/1280 [03:52<01:04,  4.69it/s]"
     ]
    },
    {
     "name": "stdout",
     "output_type": "stream",
     "text": [
      "{'loss': 0.338, 'grad_norm': 10.684661865234375, 'learning_rate': 4.71875e-06, 'epoch': 3.06}\n"
     ]
    },
    {
     "name": "stderr",
     "output_type": "stream",
     "text": [
      " 78%|███████▊  | 1000/1280 [03:56<00:59,  4.70it/s]"
     ]
    },
    {
     "name": "stdout",
     "output_type": "stream",
     "text": [
      "{'loss': 0.3567, 'grad_norm': 13.575207710266113, 'learning_rate': 4.40625e-06, 'epoch': 3.12}\n"
     ]
    },
    {
     "name": "stderr",
     "output_type": "stream",
     "text": [
      " 80%|███████▉  | 1020/1280 [04:00<00:55,  4.68it/s]"
     ]
    },
    {
     "name": "stdout",
     "output_type": "stream",
     "text": [
      "{'loss': 0.3402, 'grad_norm': 13.07925796508789, 'learning_rate': 4.09375e-06, 'epoch': 3.19}\n"
     ]
    },
    {
     "name": "stderr",
     "output_type": "stream",
     "text": [
      " 81%|████████▏ | 1040/1280 [04:05<00:51,  4.68it/s]"
     ]
    },
    {
     "name": "stdout",
     "output_type": "stream",
     "text": [
      "{'loss': 0.3438, 'grad_norm': 21.868398666381836, 'learning_rate': 3.78125e-06, 'epoch': 3.25}\n"
     ]
    },
    {
     "name": "stderr",
     "output_type": "stream",
     "text": [
      " 83%|████████▎ | 1060/1280 [04:09<00:48,  4.57it/s]"
     ]
    },
    {
     "name": "stdout",
     "output_type": "stream",
     "text": [
      "{'loss': 0.3118, 'grad_norm': 18.2921085357666, 'learning_rate': 3.46875e-06, 'epoch': 3.31}\n"
     ]
    },
    {
     "name": "stderr",
     "output_type": "stream",
     "text": [
      " 84%|████████▍ | 1080/1280 [04:13<00:43,  4.63it/s]"
     ]
    },
    {
     "name": "stdout",
     "output_type": "stream",
     "text": [
      "{'loss': 0.3575, 'grad_norm': 16.98284149169922, 'learning_rate': 3.15625e-06, 'epoch': 3.38}\n"
     ]
    },
    {
     "name": "stderr",
     "output_type": "stream",
     "text": [
      " 86%|████████▌ | 1100/1280 [04:18<00:38,  4.69it/s]"
     ]
    },
    {
     "name": "stdout",
     "output_type": "stream",
     "text": [
      "{'loss': 0.3256, 'grad_norm': 13.266624450683594, 'learning_rate': 2.84375e-06, 'epoch': 3.44}\n"
     ]
    },
    {
     "name": "stderr",
     "output_type": "stream",
     "text": [
      " 88%|████████▊ | 1120/1280 [04:22<00:34,  4.67it/s]"
     ]
    },
    {
     "name": "stdout",
     "output_type": "stream",
     "text": [
      "{'loss': 0.3632, 'grad_norm': 18.01287078857422, 'learning_rate': 2.53125e-06, 'epoch': 3.5}\n"
     ]
    },
    {
     "name": "stderr",
     "output_type": "stream",
     "text": [
      " 89%|████████▉ | 1140/1280 [04:26<00:29,  4.73it/s]"
     ]
    },
    {
     "name": "stdout",
     "output_type": "stream",
     "text": [
      "{'loss': 0.3659, 'grad_norm': 23.893619537353516, 'learning_rate': 2.21875e-06, 'epoch': 3.56}\n"
     ]
    },
    {
     "name": "stderr",
     "output_type": "stream",
     "text": [
      " 91%|█████████ | 1160/1280 [04:30<00:25,  4.64it/s]"
     ]
    },
    {
     "name": "stdout",
     "output_type": "stream",
     "text": [
      "{'loss': 0.3263, 'grad_norm': 18.117311477661133, 'learning_rate': 1.90625e-06, 'epoch': 3.62}\n"
     ]
    },
    {
     "name": "stderr",
     "output_type": "stream",
     "text": [
      " 92%|█████████▏| 1180/1280 [04:35<00:21,  4.66it/s]"
     ]
    },
    {
     "name": "stdout",
     "output_type": "stream",
     "text": [
      "{'loss': 0.3229, 'grad_norm': 15.314498901367188, 'learning_rate': 1.59375e-06, 'epoch': 3.69}\n"
     ]
    },
    {
     "name": "stderr",
     "output_type": "stream",
     "text": [
      " 94%|█████████▍| 1200/1280 [04:39<00:17,  4.64it/s]"
     ]
    },
    {
     "name": "stdout",
     "output_type": "stream",
     "text": [
      "{'loss': 0.3482, 'grad_norm': 14.088239669799805, 'learning_rate': 1.28125e-06, 'epoch': 3.75}\n"
     ]
    },
    {
     "name": "stderr",
     "output_type": "stream",
     "text": [
      " 95%|█████████▌| 1221/1280 [04:43<00:12,  4.68it/s]"
     ]
    },
    {
     "name": "stdout",
     "output_type": "stream",
     "text": [
      "{'loss': 0.3468, 'grad_norm': 20.590320587158203, 'learning_rate': 9.6875e-07, 'epoch': 3.81}\n"
     ]
    },
    {
     "name": "stderr",
     "output_type": "stream",
     "text": [
      " 97%|█████████▋| 1240/1280 [04:48<00:08,  4.71it/s]"
     ]
    },
    {
     "name": "stdout",
     "output_type": "stream",
     "text": [
      "{'loss': 0.3238, 'grad_norm': 18.33438491821289, 'learning_rate': 6.562500000000001e-07, 'epoch': 3.88}\n"
     ]
    },
    {
     "name": "stderr",
     "output_type": "stream",
     "text": [
      " 98%|█████████▊| 1260/1280 [04:52<00:04,  4.71it/s]"
     ]
    },
    {
     "name": "stdout",
     "output_type": "stream",
     "text": [
      "{'loss': 0.3469, 'grad_norm': 16.6147403717041, 'learning_rate': 3.4375000000000004e-07, 'epoch': 3.94}\n"
     ]
    },
    {
     "name": "stderr",
     "output_type": "stream",
     "text": [
      "100%|██████████| 1280/1280 [04:56<00:00,  4.70it/s]"
     ]
    },
    {
     "name": "stdout",
     "output_type": "stream",
     "text": [
      "{'loss': 0.3574, 'grad_norm': 18.473400115966797, 'learning_rate': 3.1250000000000005e-08, 'epoch': 4.0}\n"
     ]
    },
    {
     "name": "stderr",
     "output_type": "stream",
     "text": [
      "                                                   \n",
      "100%|██████████| 1280/1280 [05:00<00:00,  4.70it/s]"
     ]
    },
    {
     "name": "stdout",
     "output_type": "stream",
     "text": [
      "{'eval_loss': 0.7546396255493164, 'eval_runtime': 2.3832, 'eval_samples_per_second': 538.76, 'eval_steps_per_second': 33.987, 'epoch': 4.0}\n"
     ]
    },
    {
     "name": "stderr",
     "output_type": "stream",
     "text": [
      "100%|██████████| 1280/1280 [05:01<00:00,  4.25it/s]\n"
     ]
    },
    {
     "name": "stdout",
     "output_type": "stream",
     "text": [
      "{'train_runtime': 301.3887, 'train_samples_per_second': 135.904, 'train_steps_per_second': 4.247, 'train_loss': 0.4970018990337849, 'epoch': 4.0}\n"
     ]
    },
    {
     "name": "stderr",
     "output_type": "stream",
     "text": [
      "100%|██████████| 81/81 [00:02<00:00, 34.82it/s]"
     ]
    },
    {
     "name": "stdout",
     "output_type": "stream",
     "text": [
      "📊 BERT Test Accuracy: 0.60\n"
     ]
    },
    {
     "name": "stderr",
     "output_type": "stream",
     "text": [
      "\n"
     ]
    }
   ],
   "source": [
    "from transformers import AutoModelForSequenceClassification, Trainer, TrainingArguments\n",
    "\n",
    "# ✅ Load Tokenizer & Model\n",
    "BERT_MODEL = \"bert-base-uncased\"\n",
    "tokenizer = AutoTokenizer.from_pretrained(BERT_MODEL)\n",
    "model = AutoModelForSequenceClassification.from_pretrained(BERT_MODEL, num_labels=2).to(\"cuda\")\n",
    "\n",
    "# ✅ Prepare Dataset\n",
    "def tokenize_function(examples):\n",
    "    return tokenizer(examples[\"statement\"], padding=\"max_length\", truncation=True, max_length=256)\n",
    "\n",
    "train_dataset = HFDataset.from_pandas(train_df[[\"statement\", \"label\"]])\n",
    "valid_dataset = HFDataset.from_pandas(valid_df[[\"statement\", \"label\"]])\n",
    "train_dataset = train_dataset.map(tokenize_function, batched=True)\n",
    "valid_dataset = valid_dataset.map(tokenize_function, batched=True)\n",
    "train_dataset = train_dataset.remove_columns([\"statement\"])\n",
    "valid_dataset = valid_dataset.remove_columns([\"statement\"])\n",
    "train_dataset.set_format(type=\"torch\", columns=[\"input_ids\", \"attention_mask\", \"label\"])\n",
    "valid_dataset.set_format(type=\"torch\", columns=[\"input_ids\", \"attention_mask\", \"label\"])\n",
    "\n",
    "# ✅ Training Config\n",
    "training_args = TrainingArguments(\n",
    "    output_dir=\"./bert_results\",\n",
    "    evaluation_strategy=\"epoch\",\n",
    "    save_strategy=\"epoch\",\n",
    "    learning_rate=2e-5,\n",
    "    per_device_train_batch_size=16,\n",
    "    per_device_eval_batch_size=16,\n",
    "    num_train_epochs=4,  \n",
    "    gradient_accumulation_steps=2,\n",
    "    weight_decay=0.01,\n",
    "    logging_steps=20,\n",
    "    load_best_model_at_end=True,\n",
    "    fp16=True,\n",
    ")\n",
    "\n",
    "# ✅ Train Model\n",
    "trainer = Trainer(\n",
    "    model=model,\n",
    "    args=training_args,\n",
    "    train_dataset=train_dataset,\n",
    "    eval_dataset=valid_dataset,\n",
    "    tokenizer=tokenizer,\n",
    ")\n",
    "\n",
    "trainer.train()\n",
    "\n",
    "# ✅ Evaluate BERT Model\n",
    "results = trainer.evaluate()\n",
    "print(f\"📊 BERT Test Accuracy: {results['eval_loss']:.2f}\")\n"
   ]
  },
  {
   "cell_type": "code",
   "execution_count": 17,
   "metadata": {},
   "outputs": [
    {
     "name": "stderr",
     "output_type": "stream",
     "text": [
      "Some weights of RobertaForSequenceClassification were not initialized from the model checkpoint at roberta-base and are newly initialized: ['classifier.dense.bias', 'classifier.dense.weight', 'classifier.out_proj.bias', 'classifier.out_proj.weight']\n",
      "You should probably TRAIN this model on a down-stream task to be able to use it for predictions and inference.\n",
      "C:\\Users\\M. Hamza Khalid\\AppData\\Local\\Temp\\ipykernel_16188\\3317833989.py:7: FutureWarning: `tokenizer` is deprecated and will be removed in version 5.0.0 for `Trainer.__init__`. Use `processing_class` instead.\n",
      "  trainer = Trainer(\n",
      "  2%|▏         | 20/1280 [00:04<04:31,  4.65it/s]"
     ]
    },
    {
     "name": "stdout",
     "output_type": "stream",
     "text": [
      "{'loss': 0.6563, 'grad_norm': 5.582674503326416, 'learning_rate': 1.9703125e-05, 'epoch': 0.06}\n"
     ]
    },
    {
     "name": "stderr",
     "output_type": "stream",
     "text": [
      "  3%|▎         | 41/1280 [00:08<04:30,  4.58it/s]"
     ]
    },
    {
     "name": "stdout",
     "output_type": "stream",
     "text": [
      "{'loss': 0.6686, 'grad_norm': 3.631981611251831, 'learning_rate': 1.9390625000000002e-05, 'epoch': 0.12}\n"
     ]
    },
    {
     "name": "stderr",
     "output_type": "stream",
     "text": [
      "  5%|▍         | 60/1280 [00:13<04:27,  4.55it/s]"
     ]
    },
    {
     "name": "stdout",
     "output_type": "stream",
     "text": [
      "{'loss': 0.6638, 'grad_norm': 2.861544370651245, 'learning_rate': 1.9078125e-05, 'epoch': 0.19}\n"
     ]
    },
    {
     "name": "stderr",
     "output_type": "stream",
     "text": [
      "  6%|▋         | 80/1280 [00:17<04:20,  4.61it/s]"
     ]
    },
    {
     "name": "stdout",
     "output_type": "stream",
     "text": [
      "{'loss': 0.6476, 'grad_norm': 4.089130878448486, 'learning_rate': 1.8765625e-05, 'epoch': 0.25}\n"
     ]
    },
    {
     "name": "stderr",
     "output_type": "stream",
     "text": [
      "  8%|▊         | 100/1280 [00:21<04:17,  4.58it/s]"
     ]
    },
    {
     "name": "stdout",
     "output_type": "stream",
     "text": [
      "{'loss': 0.6401, 'grad_norm': 11.956304550170898, 'learning_rate': 1.846875e-05, 'epoch': 0.31}\n"
     ]
    },
    {
     "name": "stderr",
     "output_type": "stream",
     "text": [
      "  9%|▉         | 120/1280 [00:26<04:14,  4.56it/s]"
     ]
    },
    {
     "name": "stdout",
     "output_type": "stream",
     "text": [
      "{'loss': 0.6373, 'grad_norm': 4.998486518859863, 'learning_rate': 1.815625e-05, 'epoch': 0.38}\n"
     ]
    },
    {
     "name": "stderr",
     "output_type": "stream",
     "text": [
      " 11%|█         | 140/1280 [00:30<04:06,  4.62it/s]"
     ]
    },
    {
     "name": "stdout",
     "output_type": "stream",
     "text": [
      "{'loss': 0.656, 'grad_norm': 3.767868757247925, 'learning_rate': 1.7843750000000003e-05, 'epoch': 0.44}\n"
     ]
    },
    {
     "name": "stderr",
     "output_type": "stream",
     "text": [
      " 12%|█▎        | 160/1280 [00:35<04:09,  4.48it/s]"
     ]
    },
    {
     "name": "stdout",
     "output_type": "stream",
     "text": [
      "{'loss': 0.6644, 'grad_norm': 6.496226787567139, 'learning_rate': 1.7531250000000003e-05, 'epoch': 0.5}\n"
     ]
    },
    {
     "name": "stderr",
     "output_type": "stream",
     "text": [
      " 14%|█▍        | 181/1280 [00:39<03:53,  4.70it/s]"
     ]
    },
    {
     "name": "stdout",
     "output_type": "stream",
     "text": [
      "{'loss': 0.6599, 'grad_norm': 2.1495046615600586, 'learning_rate': 1.7218750000000002e-05, 'epoch': 0.56}\n"
     ]
    },
    {
     "name": "stderr",
     "output_type": "stream",
     "text": [
      " 16%|█▌        | 201/1280 [00:43<03:54,  4.61it/s]"
     ]
    },
    {
     "name": "stdout",
     "output_type": "stream",
     "text": [
      "{'loss': 0.6503, 'grad_norm': 2.8504245281219482, 'learning_rate': 1.690625e-05, 'epoch': 0.62}\n"
     ]
    },
    {
     "name": "stderr",
     "output_type": "stream",
     "text": [
      " 17%|█▋        | 221/1280 [00:48<03:45,  4.70it/s]"
     ]
    },
    {
     "name": "stdout",
     "output_type": "stream",
     "text": [
      "{'loss': 0.6363, 'grad_norm': 3.880241870880127, 'learning_rate': 1.659375e-05, 'epoch': 0.69}\n"
     ]
    },
    {
     "name": "stderr",
     "output_type": "stream",
     "text": [
      " 19%|█▉        | 240/1280 [00:52<03:43,  4.66it/s]"
     ]
    },
    {
     "name": "stdout",
     "output_type": "stream",
     "text": [
      "{'loss': 0.6511, 'grad_norm': 3.3969566822052, 'learning_rate': 1.6281250000000003e-05, 'epoch': 0.75}\n"
     ]
    },
    {
     "name": "stderr",
     "output_type": "stream",
     "text": [
      " 20%|██        | 260/1280 [00:56<03:35,  4.74it/s]"
     ]
    },
    {
     "name": "stdout",
     "output_type": "stream",
     "text": [
      "{'loss': 0.6282, 'grad_norm': 1.80039381980896, 'learning_rate': 1.5968750000000002e-05, 'epoch': 0.81}\n"
     ]
    },
    {
     "name": "stderr",
     "output_type": "stream",
     "text": [
      " 22%|██▏       | 280/1280 [01:00<03:30,  4.75it/s]"
     ]
    },
    {
     "name": "stdout",
     "output_type": "stream",
     "text": [
      "{'loss': 0.6676, 'grad_norm': 4.797929763793945, 'learning_rate': 1.565625e-05, 'epoch': 0.88}\n"
     ]
    },
    {
     "name": "stderr",
     "output_type": "stream",
     "text": [
      " 23%|██▎       | 300/1280 [01:05<03:37,  4.51it/s]"
     ]
    },
    {
     "name": "stdout",
     "output_type": "stream",
     "text": [
      "{'loss': 0.6589, 'grad_norm': 1.9540178775787354, 'learning_rate': 1.534375e-05, 'epoch': 0.94}\n"
     ]
    },
    {
     "name": "stderr",
     "output_type": "stream",
     "text": [
      " 25%|██▌       | 320/1280 [01:09<03:23,  4.71it/s]"
     ]
    },
    {
     "name": "stdout",
     "output_type": "stream",
     "text": [
      "{'loss': 0.6639, 'grad_norm': 5.756864547729492, 'learning_rate': 1.5031250000000001e-05, 'epoch': 1.0}\n"
     ]
    },
    {
     "name": "stderr",
     "output_type": "stream",
     "text": [
      "\n",
      " 25%|██▌       | 320/1280 [01:11<03:23,  4.71it/s]"
     ]
    },
    {
     "name": "stdout",
     "output_type": "stream",
     "text": [
      "{'eval_loss': 0.6304992437362671, 'eval_runtime': 2.3158, 'eval_samples_per_second': 554.44, 'eval_steps_per_second': 34.976, 'epoch': 1.0}\n"
     ]
    },
    {
     "name": "stderr",
     "output_type": "stream",
     "text": [
      " 27%|██▋       | 340/1280 [01:17<03:20,  4.70it/s]"
     ]
    },
    {
     "name": "stdout",
     "output_type": "stream",
     "text": [
      "{'loss': 0.6535, 'grad_norm': 2.472170352935791, 'learning_rate': 1.4718750000000002e-05, 'epoch': 1.06}\n"
     ]
    },
    {
     "name": "stderr",
     "output_type": "stream",
     "text": [
      " 28%|██▊       | 360/1280 [01:21<03:14,  4.73it/s]"
     ]
    },
    {
     "name": "stdout",
     "output_type": "stream",
     "text": [
      "{'loss': 0.6571, 'grad_norm': 2.430755138397217, 'learning_rate': 1.4406250000000001e-05, 'epoch': 1.12}\n"
     ]
    },
    {
     "name": "stderr",
     "output_type": "stream",
     "text": [
      " 30%|██▉       | 380/1280 [01:26<03:10,  4.72it/s]"
     ]
    },
    {
     "name": "stdout",
     "output_type": "stream",
     "text": [
      "{'loss': 0.6539, 'grad_norm': 2.7211215496063232, 'learning_rate': 1.4093750000000002e-05, 'epoch': 1.19}\n"
     ]
    },
    {
     "name": "stderr",
     "output_type": "stream",
     "text": [
      " 31%|███▏      | 400/1280 [01:30<03:06,  4.73it/s]"
     ]
    },
    {
     "name": "stdout",
     "output_type": "stream",
     "text": [
      "{'loss': 0.6498, 'grad_norm': 3.0830273628234863, 'learning_rate': 1.3781250000000001e-05, 'epoch': 1.25}\n"
     ]
    },
    {
     "name": "stderr",
     "output_type": "stream",
     "text": [
      " 33%|███▎      | 421/1280 [01:34<03:02,  4.69it/s]"
     ]
    },
    {
     "name": "stdout",
     "output_type": "stream",
     "text": [
      "{'loss': 0.6386, 'grad_norm': 10.337491989135742, 'learning_rate': 1.3468750000000002e-05, 'epoch': 1.31}\n"
     ]
    },
    {
     "name": "stderr",
     "output_type": "stream",
     "text": [
      " 34%|███▍      | 441/1280 [01:39<02:58,  4.70it/s]"
     ]
    },
    {
     "name": "stdout",
     "output_type": "stream",
     "text": [
      "{'loss': 0.6332, 'grad_norm': 5.886685848236084, 'learning_rate': 1.3156250000000001e-05, 'epoch': 1.38}\n"
     ]
    },
    {
     "name": "stderr",
     "output_type": "stream",
     "text": [
      " 36%|███▌      | 460/1280 [01:43<02:53,  4.74it/s]"
     ]
    },
    {
     "name": "stdout",
     "output_type": "stream",
     "text": [
      "{'loss': 0.6665, 'grad_norm': 4.118760585784912, 'learning_rate': 1.2843750000000002e-05, 'epoch': 1.44}\n"
     ]
    },
    {
     "name": "stderr",
     "output_type": "stream",
     "text": [
      " 38%|███▊      | 480/1280 [01:47<02:49,  4.73it/s]"
     ]
    },
    {
     "name": "stdout",
     "output_type": "stream",
     "text": [
      "{'loss': 0.6362, 'grad_norm': 7.8045573234558105, 'learning_rate': 1.2531250000000001e-05, 'epoch': 1.5}\n"
     ]
    },
    {
     "name": "stderr",
     "output_type": "stream",
     "text": [
      " 39%|███▉      | 501/1280 [01:51<02:48,  4.63it/s]"
     ]
    },
    {
     "name": "stdout",
     "output_type": "stream",
     "text": [
      "{'loss': 0.6456, 'grad_norm': 4.724995136260986, 'learning_rate': 1.2218750000000002e-05, 'epoch': 1.56}\n"
     ]
    },
    {
     "name": "stderr",
     "output_type": "stream",
     "text": [
      " 41%|████      | 521/1280 [01:56<02:44,  4.62it/s]"
     ]
    },
    {
     "name": "stdout",
     "output_type": "stream",
     "text": [
      "{'loss': 0.6382, 'grad_norm': 3.8873209953308105, 'learning_rate': 1.1906250000000001e-05, 'epoch': 1.62}\n"
     ]
    },
    {
     "name": "stderr",
     "output_type": "stream",
     "text": [
      " 42%|████▏     | 540/1280 [02:00<02:42,  4.56it/s]"
     ]
    },
    {
     "name": "stdout",
     "output_type": "stream",
     "text": [
      "{'loss': 0.6226, 'grad_norm': 7.085458278656006, 'learning_rate': 1.159375e-05, 'epoch': 1.69}\n"
     ]
    },
    {
     "name": "stderr",
     "output_type": "stream",
     "text": [
      " 44%|████▍     | 560/1280 [02:04<02:39,  4.52it/s]"
     ]
    },
    {
     "name": "stdout",
     "output_type": "stream",
     "text": [
      "{'loss': 0.6408, 'grad_norm': 3.906010389328003, 'learning_rate': 1.1281250000000001e-05, 'epoch': 1.75}\n"
     ]
    },
    {
     "name": "stderr",
     "output_type": "stream",
     "text": [
      " 45%|████▌     | 580/1280 [02:09<02:28,  4.71it/s]"
     ]
    },
    {
     "name": "stdout",
     "output_type": "stream",
     "text": [
      "{'loss': 0.6347, 'grad_norm': 4.170687675476074, 'learning_rate': 1.096875e-05, 'epoch': 1.81}\n"
     ]
    },
    {
     "name": "stderr",
     "output_type": "stream",
     "text": [
      " 47%|████▋     | 601/1280 [02:13<02:30,  4.51it/s]"
     ]
    },
    {
     "name": "stdout",
     "output_type": "stream",
     "text": [
      "{'loss': 0.6195, 'grad_norm': 4.424964904785156, 'learning_rate': 1.0656250000000002e-05, 'epoch': 1.88}\n"
     ]
    },
    {
     "name": "stderr",
     "output_type": "stream",
     "text": [
      " 48%|████▊     | 620/1280 [02:17<02:19,  4.72it/s]"
     ]
    },
    {
     "name": "stdout",
     "output_type": "stream",
     "text": [
      "{'loss': 0.5965, 'grad_norm': 6.166025161743164, 'learning_rate': 1.034375e-05, 'epoch': 1.94}\n"
     ]
    },
    {
     "name": "stderr",
     "output_type": "stream",
     "text": [
      " 50%|█████     | 640/1280 [02:22<02:24,  4.43it/s]"
     ]
    },
    {
     "name": "stdout",
     "output_type": "stream",
     "text": [
      "{'loss': 0.6325, 'grad_norm': 11.555007934570312, 'learning_rate': 1.0031250000000002e-05, 'epoch': 2.0}\n"
     ]
    },
    {
     "name": "stderr",
     "output_type": "stream",
     "text": [
      "\n",
      " 50%|█████     | 640/1280 [02:24<02:24,  4.43it/s]"
     ]
    },
    {
     "name": "stdout",
     "output_type": "stream",
     "text": [
      "{'eval_loss': 0.6040753126144409, 'eval_runtime': 2.4431, 'eval_samples_per_second': 525.561, 'eval_steps_per_second': 33.155, 'epoch': 2.0}\n"
     ]
    },
    {
     "name": "stderr",
     "output_type": "stream",
     "text": [
      " 52%|█████▏    | 660/1280 [02:30<02:19,  4.43it/s]"
     ]
    },
    {
     "name": "stdout",
     "output_type": "stream",
     "text": [
      "{'loss': 0.6207, 'grad_norm': 5.020862102508545, 'learning_rate': 9.71875e-06, 'epoch': 2.06}\n"
     ]
    },
    {
     "name": "stderr",
     "output_type": "stream",
     "text": [
      " 53%|█████▎    | 680/1280 [02:34<02:11,  4.57it/s]"
     ]
    },
    {
     "name": "stdout",
     "output_type": "stream",
     "text": [
      "{'loss': 0.5911, 'grad_norm': 12.339179039001465, 'learning_rate': 9.406250000000002e-06, 'epoch': 2.12}\n"
     ]
    },
    {
     "name": "stderr",
     "output_type": "stream",
     "text": [
      " 55%|█████▍    | 700/1280 [02:39<02:05,  4.62it/s]"
     ]
    },
    {
     "name": "stdout",
     "output_type": "stream",
     "text": [
      "{'loss': 0.6517, 'grad_norm': 7.491077899932861, 'learning_rate': 9.09375e-06, 'epoch': 2.19}\n"
     ]
    },
    {
     "name": "stderr",
     "output_type": "stream",
     "text": [
      " 56%|█████▋    | 720/1280 [02:43<01:58,  4.74it/s]"
     ]
    },
    {
     "name": "stdout",
     "output_type": "stream",
     "text": [
      "{'loss': 0.6268, 'grad_norm': 4.158359050750732, 'learning_rate': 8.781250000000002e-06, 'epoch': 2.25}\n"
     ]
    },
    {
     "name": "stderr",
     "output_type": "stream",
     "text": [
      " 58%|█████▊    | 740/1280 [02:47<01:53,  4.74it/s]"
     ]
    },
    {
     "name": "stdout",
     "output_type": "stream",
     "text": [
      "{'loss': 0.6105, 'grad_norm': 11.132085800170898, 'learning_rate': 8.468750000000001e-06, 'epoch': 2.31}\n"
     ]
    },
    {
     "name": "stderr",
     "output_type": "stream",
     "text": [
      " 59%|█████▉    | 761/1280 [02:52<01:54,  4.53it/s]"
     ]
    },
    {
     "name": "stdout",
     "output_type": "stream",
     "text": [
      "{'loss': 0.627, 'grad_norm': 14.858142852783203, 'learning_rate': 8.156250000000002e-06, 'epoch': 2.38}\n"
     ]
    },
    {
     "name": "stderr",
     "output_type": "stream",
     "text": [
      " 61%|██████    | 780/1280 [02:56<01:49,  4.58it/s]"
     ]
    },
    {
     "name": "stdout",
     "output_type": "stream",
     "text": [
      "{'loss': 0.6006, 'grad_norm': 11.933480262756348, 'learning_rate': 7.843750000000001e-06, 'epoch': 2.44}\n"
     ]
    },
    {
     "name": "stderr",
     "output_type": "stream",
     "text": [
      " 63%|██████▎   | 801/1280 [03:00<01:41,  4.72it/s]"
     ]
    },
    {
     "name": "stdout",
     "output_type": "stream",
     "text": [
      "{'loss': 0.5662, 'grad_norm': 7.307785511016846, 'learning_rate': 7.531250000000001e-06, 'epoch': 2.5}\n"
     ]
    },
    {
     "name": "stderr",
     "output_type": "stream",
     "text": [
      " 64%|██████▍   | 821/1280 [03:05<01:37,  4.70it/s]"
     ]
    },
    {
     "name": "stdout",
     "output_type": "stream",
     "text": [
      "{'loss': 0.6247, 'grad_norm': 9.955183982849121, 'learning_rate': 7.218750000000001e-06, 'epoch': 2.56}\n"
     ]
    },
    {
     "name": "stderr",
     "output_type": "stream",
     "text": [
      " 66%|██████▌   | 840/1280 [03:09<01:32,  4.74it/s]"
     ]
    },
    {
     "name": "stdout",
     "output_type": "stream",
     "text": [
      "{'loss': 0.6297, 'grad_norm': 8.199223518371582, 'learning_rate': 6.906250000000001e-06, 'epoch': 2.62}\n"
     ]
    },
    {
     "name": "stderr",
     "output_type": "stream",
     "text": [
      " 67%|██████▋   | 860/1280 [03:13<01:28,  4.74it/s]"
     ]
    },
    {
     "name": "stdout",
     "output_type": "stream",
     "text": [
      "{'loss': 0.6229, 'grad_norm': 11.199080467224121, 'learning_rate': 6.593750000000001e-06, 'epoch': 2.69}\n"
     ]
    },
    {
     "name": "stderr",
     "output_type": "stream",
     "text": [
      " 69%|██████▉   | 880/1280 [03:17<01:24,  4.72it/s]"
     ]
    },
    {
     "name": "stdout",
     "output_type": "stream",
     "text": [
      "{'loss': 0.6084, 'grad_norm': 5.055011749267578, 'learning_rate': 6.281250000000001e-06, 'epoch': 2.75}\n"
     ]
    },
    {
     "name": "stderr",
     "output_type": "stream",
     "text": [
      " 70%|███████   | 900/1280 [03:21<01:22,  4.63it/s]"
     ]
    },
    {
     "name": "stdout",
     "output_type": "stream",
     "text": [
      "{'loss': 0.635, 'grad_norm': 5.3408203125, 'learning_rate': 5.968750000000001e-06, 'epoch': 2.81}\n"
     ]
    },
    {
     "name": "stderr",
     "output_type": "stream",
     "text": [
      " 72%|███████▏  | 920/1280 [03:26<01:21,  4.44it/s]"
     ]
    },
    {
     "name": "stdout",
     "output_type": "stream",
     "text": [
      "{'loss': 0.6322, 'grad_norm': 9.920507431030273, 'learning_rate': 5.656250000000001e-06, 'epoch': 2.88}\n"
     ]
    },
    {
     "name": "stderr",
     "output_type": "stream",
     "text": [
      " 74%|███████▎  | 941/1280 [03:30<01:12,  4.70it/s]"
     ]
    },
    {
     "name": "stdout",
     "output_type": "stream",
     "text": [
      "{'loss': 0.6162, 'grad_norm': 6.269789218902588, 'learning_rate': 5.343750000000001e-06, 'epoch': 2.94}\n"
     ]
    },
    {
     "name": "stderr",
     "output_type": "stream",
     "text": [
      " 75%|███████▌  | 960/1280 [03:34<01:09,  4.59it/s]"
     ]
    },
    {
     "name": "stdout",
     "output_type": "stream",
     "text": [
      "{'loss': 0.6246, 'grad_norm': 10.958261489868164, 'learning_rate': 5.031250000000001e-06, 'epoch': 3.0}\n"
     ]
    },
    {
     "name": "stderr",
     "output_type": "stream",
     "text": [
      "\n",
      " 75%|███████▌  | 960/1280 [03:37<01:09,  4.59it/s]"
     ]
    },
    {
     "name": "stdout",
     "output_type": "stream",
     "text": [
      "{'eval_loss': 0.6016996502876282, 'eval_runtime': 2.3621, 'eval_samples_per_second': 543.579, 'eval_steps_per_second': 34.291, 'epoch': 3.0}\n"
     ]
    },
    {
     "name": "stderr",
     "output_type": "stream",
     "text": [
      " 77%|███████▋  | 980/1280 [03:43<01:04,  4.68it/s]"
     ]
    },
    {
     "name": "stdout",
     "output_type": "stream",
     "text": [
      "{'loss': 0.5904, 'grad_norm': 13.34623908996582, 'learning_rate': 4.71875e-06, 'epoch': 3.06}\n"
     ]
    },
    {
     "name": "stderr",
     "output_type": "stream",
     "text": [
      " 78%|███████▊  | 1000/1280 [03:47<00:59,  4.69it/s]"
     ]
    },
    {
     "name": "stdout",
     "output_type": "stream",
     "text": [
      "{'loss': 0.6072, 'grad_norm': 8.901453971862793, 'learning_rate': 4.40625e-06, 'epoch': 3.12}\n"
     ]
    },
    {
     "name": "stderr",
     "output_type": "stream",
     "text": [
      " 80%|███████▉  | 1020/1280 [03:51<00:55,  4.70it/s]"
     ]
    },
    {
     "name": "stdout",
     "output_type": "stream",
     "text": [
      "{'loss': 0.6088, 'grad_norm': 9.03220272064209, 'learning_rate': 4.09375e-06, 'epoch': 3.19}\n"
     ]
    },
    {
     "name": "stderr",
     "output_type": "stream",
     "text": [
      " 81%|████████▏ | 1040/1280 [03:55<00:50,  4.74it/s]"
     ]
    },
    {
     "name": "stdout",
     "output_type": "stream",
     "text": [
      "{'loss': 0.5802, 'grad_norm': 11.834863662719727, 'learning_rate': 3.78125e-06, 'epoch': 3.25}\n"
     ]
    },
    {
     "name": "stderr",
     "output_type": "stream",
     "text": [
      " 83%|████████▎ | 1061/1280 [04:00<00:46,  4.72it/s]"
     ]
    },
    {
     "name": "stdout",
     "output_type": "stream",
     "text": [
      "{'loss': 0.5975, 'grad_norm': 14.866089820861816, 'learning_rate': 3.46875e-06, 'epoch': 3.31}\n"
     ]
    },
    {
     "name": "stderr",
     "output_type": "stream",
     "text": [
      " 84%|████████▍ | 1080/1280 [04:04<00:42,  4.72it/s]"
     ]
    },
    {
     "name": "stdout",
     "output_type": "stream",
     "text": [
      "{'loss': 0.5748, 'grad_norm': 8.446598052978516, 'learning_rate': 3.15625e-06, 'epoch': 3.38}\n"
     ]
    },
    {
     "name": "stderr",
     "output_type": "stream",
     "text": [
      " 86%|████████▌ | 1101/1280 [04:08<00:39,  4.57it/s]"
     ]
    },
    {
     "name": "stdout",
     "output_type": "stream",
     "text": [
      "{'loss': 0.5733, 'grad_norm': 12.075094223022461, 'learning_rate': 2.84375e-06, 'epoch': 3.44}\n"
     ]
    },
    {
     "name": "stderr",
     "output_type": "stream",
     "text": [
      " 88%|████████▊ | 1121/1280 [04:13<00:35,  4.53it/s]"
     ]
    },
    {
     "name": "stdout",
     "output_type": "stream",
     "text": [
      "{'loss': 0.5941, 'grad_norm': 9.624262809753418, 'learning_rate': 2.53125e-06, 'epoch': 3.5}\n"
     ]
    },
    {
     "name": "stderr",
     "output_type": "stream",
     "text": [
      " 89%|████████▉ | 1140/1280 [04:17<00:31,  4.46it/s]"
     ]
    },
    {
     "name": "stdout",
     "output_type": "stream",
     "text": [
      "{'loss': 0.6188, 'grad_norm': 14.61150074005127, 'learning_rate': 2.21875e-06, 'epoch': 3.56}\n"
     ]
    },
    {
     "name": "stderr",
     "output_type": "stream",
     "text": [
      " 91%|█████████ | 1161/1280 [04:21<00:25,  4.66it/s]"
     ]
    },
    {
     "name": "stdout",
     "output_type": "stream",
     "text": [
      "{'loss': 0.5645, 'grad_norm': 19.813417434692383, 'learning_rate': 1.90625e-06, 'epoch': 3.62}\n"
     ]
    },
    {
     "name": "stderr",
     "output_type": "stream",
     "text": [
      " 92%|█████████▏| 1181/1280 [04:26<00:21,  4.60it/s]"
     ]
    },
    {
     "name": "stdout",
     "output_type": "stream",
     "text": [
      "{'loss': 0.6105, 'grad_norm': 9.361054420471191, 'learning_rate': 1.59375e-06, 'epoch': 3.69}\n"
     ]
    },
    {
     "name": "stderr",
     "output_type": "stream",
     "text": [
      " 94%|█████████▍| 1200/1280 [04:30<00:17,  4.55it/s]"
     ]
    },
    {
     "name": "stdout",
     "output_type": "stream",
     "text": [
      "{'loss': 0.6051, 'grad_norm': 12.926652908325195, 'learning_rate': 1.28125e-06, 'epoch': 3.75}\n"
     ]
    },
    {
     "name": "stderr",
     "output_type": "stream",
     "text": [
      " 95%|█████████▌| 1221/1280 [04:35<00:13,  4.28it/s]"
     ]
    },
    {
     "name": "stdout",
     "output_type": "stream",
     "text": [
      "{'loss': 0.5875, 'grad_norm': 7.994692802429199, 'learning_rate': 9.6875e-07, 'epoch': 3.81}\n"
     ]
    },
    {
     "name": "stderr",
     "output_type": "stream",
     "text": [
      " 97%|█████████▋| 1241/1280 [04:39<00:08,  4.66it/s]"
     ]
    },
    {
     "name": "stdout",
     "output_type": "stream",
     "text": [
      "{'loss': 0.5702, 'grad_norm': 18.266340255737305, 'learning_rate': 6.562500000000001e-07, 'epoch': 3.88}\n"
     ]
    },
    {
     "name": "stderr",
     "output_type": "stream",
     "text": [
      " 98%|█████████▊| 1260/1280 [04:43<00:04,  4.73it/s]"
     ]
    },
    {
     "name": "stdout",
     "output_type": "stream",
     "text": [
      "{'loss': 0.5859, 'grad_norm': 8.698602676391602, 'learning_rate': 3.4375000000000004e-07, 'epoch': 3.94}\n"
     ]
    },
    {
     "name": "stderr",
     "output_type": "stream",
     "text": [
      "100%|██████████| 1280/1280 [04:47<00:00,  4.76it/s]"
     ]
    },
    {
     "name": "stdout",
     "output_type": "stream",
     "text": [
      "{'loss': 0.5974, 'grad_norm': 10.493473052978516, 'learning_rate': 3.1250000000000005e-08, 'epoch': 4.0}\n"
     ]
    },
    {
     "name": "stderr",
     "output_type": "stream",
     "text": [
      "\n",
      "100%|██████████| 1280/1280 [04:51<00:00,  4.76it/s]"
     ]
    },
    {
     "name": "stdout",
     "output_type": "stream",
     "text": [
      "{'eval_loss': 0.6078425645828247, 'eval_runtime': 2.356, 'eval_samples_per_second': 544.988, 'eval_steps_per_second': 34.38, 'epoch': 4.0}\n"
     ]
    },
    {
     "name": "stderr",
     "output_type": "stream",
     "text": [
      "100%|██████████| 1280/1280 [04:53<00:00,  4.37it/s]\n"
     ]
    },
    {
     "name": "stdout",
     "output_type": "stream",
     "text": [
      "{'train_runtime': 293.069, 'train_samples_per_second': 139.762, 'train_steps_per_second': 4.368, 'train_loss': 0.6253744624555111, 'epoch': 4.0}\n"
     ]
    },
    {
     "name": "stderr",
     "output_type": "stream",
     "text": [
      "100%|██████████| 81/81 [00:02<00:00, 34.65it/s]"
     ]
    },
    {
     "name": "stdout",
     "output_type": "stream",
     "text": [
      "📊 RoBERTa Test Accuracy: 0.60\n"
     ]
    },
    {
     "name": "stderr",
     "output_type": "stream",
     "text": [
      "\n"
     ]
    }
   ],
   "source": [
    "# ✅ Load RoBERTa Model\n",
    "ROBERTA_MODEL = \"roberta-base\"\n",
    "tokenizer = AutoTokenizer.from_pretrained(ROBERTA_MODEL)\n",
    "model = AutoModelForSequenceClassification.from_pretrained(ROBERTA_MODEL, num_labels=2).to(\"cuda\")\n",
    "\n",
    "# ✅ Train & Evaluate using Same Code as BERT\n",
    "trainer = Trainer(\n",
    "    model=model,\n",
    "    args=training_args,\n",
    "    train_dataset=train_dataset,\n",
    "    eval_dataset=valid_dataset,\n",
    "    tokenizer=tokenizer,\n",
    ")\n",
    "\n",
    "trainer.train()\n",
    "results = trainer.evaluate()\n",
    "print(f\"📊 RoBERTa Test Accuracy: {results['eval_loss']:.2f}\")\n"
   ]
  },
  {
   "cell_type": "code",
   "execution_count": 6,
   "metadata": {},
   "outputs": [
    {
     "name": "stderr",
     "output_type": "stream",
     "text": [
      "c:\\Users\\M. Hamza Khalid\\AppData\\Local\\Programs\\Python\\Python38\\lib\\site-packages\\transformers\\models\\bert\\modeling_bert.py:440: UserWarning: 1Torch was not compiled with flash attention. (Triggered internally at C:\\actions-runner\\_work\\pytorch\\pytorch\\builder\\windows\\pytorch\\aten\\src\\ATen\\native\\transformers\\cuda\\sdp_utils.cpp:555.)\n",
      "  attn_output = torch.nn.functional.scaled_dot_product_attention(\n"
     ]
    },
    {
     "name": "stdout",
     "output_type": "stream",
     "text": [
      "Epoch 1, Loss: 403.4226\n",
      "Epoch 2, Loss: 378.5019\n",
      "Epoch 3, Loss: 330.4256\n",
      "Epoch 4, Loss: 244.5410\n",
      "📊 Hybrid Model Test Accuracy: 67.29% ✅\n"
     ]
    }
   ],
   "source": [
    "import torch\n",
    "import torch.nn as nn\n",
    "import torch.optim as optim\n",
    "from torch.utils.data import DataLoader, TensorDataset\n",
    "from transformers import AutoModel, AutoTokenizer\n",
    "\n",
    "# ✅ Load Tokenizer & BERT Model\n",
    "HYBRID_MODEL = \"bert-base-uncased\"\n",
    "tokenizer = AutoTokenizer.from_pretrained(HYBRID_MODEL)\n",
    "\n",
    "# ✅ Tokenize Text Data\n",
    "def tokenize_statements(statements):\n",
    "    return tokenizer(statements, padding=\"max_length\", truncation=True, max_length=256, return_tensors=\"pt\")\n",
    "\n",
    "train_tokens = tokenize_statements(train_df[\"statement\"].tolist())\n",
    "valid_tokens = tokenize_statements(valid_df[\"statement\"].tolist())\n",
    "\n",
    "# ✅ Convert to TensorDataset\n",
    "train_labels = torch.tensor(train_df[\"label\"].tolist())\n",
    "valid_labels = torch.tensor(valid_df[\"label\"].tolist())\n",
    "train_dataset = TensorDataset(train_tokens[\"input_ids\"], train_tokens[\"attention_mask\"], train_labels)\n",
    "valid_dataset = TensorDataset(valid_tokens[\"input_ids\"], valid_tokens[\"attention_mask\"], valid_labels)\n",
    "\n",
    "# ✅ Define DataLoaders\n",
    "train_loader = DataLoader(train_dataset, batch_size=16, shuffle=True)\n",
    "valid_loader = DataLoader(valid_dataset, batch_size=16, shuffle=False)\n",
    "\n",
    "# ✅ Define Hybrid Model (BERT + CNN + LSTM)\n",
    "class HybridModel(nn.Module):\n",
    "    def __init__(self):\n",
    "        super(HybridModel, self).__init__()\n",
    "        \n",
    "        # ✅ Use AutoModel (not Classification)\n",
    "        self.bert = AutoModel.from_pretrained(HYBRID_MODEL)\n",
    "        \n",
    "        # ✅ CNN Layer\n",
    "        self.conv1 = nn.Conv1d(in_channels=768, out_channels=128, kernel_size=3, padding=1)\n",
    "        \n",
    "        # ✅ LSTM Layer\n",
    "        self.lstm = nn.LSTM(128, 64, batch_first=True)\n",
    "        \n",
    "        # ✅ Fully Connected Layer\n",
    "        self.fc = nn.Linear(64, 2)\n",
    "        self.dropout = nn.Dropout(0.3)\n",
    "\n",
    "    def forward(self, input_ids, attention_mask):\n",
    "        # ✅ Pass through BERT and get hidden states\n",
    "        outputs = self.bert(input_ids, attention_mask=attention_mask)\n",
    "        x = outputs.last_hidden_state  # (batch_size, seq_length, 768)\n",
    "\n",
    "        # ✅ Rearrange for Conv1D: (batch_size, 768, seq_length)\n",
    "        x = x.permute(0, 2, 1)\n",
    "        x = self.conv1(x)  # (batch_size, 128, seq_length)\n",
    "\n",
    "        # ✅ Rearrange for LSTM: (batch_size, seq_length, 128)\n",
    "        x = x.permute(0, 2, 1)\n",
    "        x, _ = self.lstm(x)  # (batch_size, seq_length, 64)\n",
    "\n",
    "        # ✅ Take the last LSTM output\n",
    "        x = x[:, -1, :]  # (batch_size, 64)\n",
    "\n",
    "        # ✅ Fully Connected Layer\n",
    "        x = self.fc(self.dropout(x))  # (batch_size, 2)\n",
    "        return x\n",
    "\n",
    "# ✅ Initialize Model\n",
    "model = HybridModel().to(\"cuda\")\n",
    "criterion = nn.CrossEntropyLoss()\n",
    "optimizer = optim.Adam(model.parameters(), lr=1e-5)\n",
    "\n",
    "# ✅ Train Hybrid Model\n",
    "for epoch in range(4):\n",
    "    model.train()\n",
    "    total_loss = 0\n",
    "    for batch in train_loader:\n",
    "        input_ids, attention_mask, labels = [x.to(\"cuda\") for x in batch]\n",
    "        optimizer.zero_grad()\n",
    "        outputs = model(input_ids, attention_mask)\n",
    "        loss = criterion(outputs, labels)\n",
    "        loss.backward()\n",
    "        optimizer.step()\n",
    "        total_loss += loss.item()\n",
    "    print(f\"Epoch {epoch+1}, Loss: {total_loss:.4f}\")\n",
    "\n",
    "# ✅ Evaluate Hybrid Model\n",
    "model.eval()\n",
    "correct = 0\n",
    "total = 0\n",
    "with torch.no_grad():\n",
    "    for batch in valid_loader:\n",
    "        input_ids, attention_mask, labels = [x.to(\"cuda\") for x in batch]\n",
    "        outputs = model(input_ids, attention_mask)\n",
    "        predictions = torch.argmax(outputs, dim=1)\n",
    "        correct += (predictions == labels).sum().item()\n",
    "        total += labels.size(0)\n",
    "\n",
    "accuracy = correct / total\n",
    "print(f\"📊 Hybrid Model Test Accuracy: {accuracy * 100:.2f}% ✅\")\n"
   ]
  }
 ],
 "metadata": {
  "kernelspec": {
   "display_name": "Python 3",
   "language": "python",
   "name": "python3"
  },
  "language_info": {
   "codemirror_mode": {
    "name": "ipython",
    "version": 3
   },
   "file_extension": ".py",
   "mimetype": "text/x-python",
   "name": "python",
   "nbconvert_exporter": "python",
   "pygments_lexer": "ipython3",
   "version": "3.8.10"
  }
 },
 "nbformat": 4,
 "nbformat_minor": 2
}
