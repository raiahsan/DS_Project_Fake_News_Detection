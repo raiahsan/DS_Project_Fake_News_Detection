{
 "cells": [
  {
   "cell_type": "code",
   "execution_count": 1,
   "metadata": {},
   "outputs": [
    {
     "name": "stderr",
     "output_type": "stream",
     "text": [
      "c:\\Users\\M. Hamza Khalid\\AppData\\Local\\Programs\\Python\\Python38\\lib\\site-packages\\tqdm\\auto.py:21: TqdmWarning: IProgress not found. Please update jupyter and ipywidgets. See https://ipywidgets.readthedocs.io/en/stable/user_install.html\n",
      "  from .autonotebook import tqdm as notebook_tqdm\n"
     ]
    }
   ],
   "source": [
    "import pandas as pd\n",
    "import torch\n",
    "import numpy as np\n",
    "from textblob import TextBlob\n",
    "from transformers import AutoTokenizer\n",
    "from datasets import Dataset as HFDataset"
   ]
  },
  {
   "cell_type": "code",
   "execution_count": 2,
   "metadata": {},
   "outputs": [],
   "source": [
    "# ✅ Load dataset paths\n",
    "train_path = \"data/train.tsv\"\n",
    "valid_path = \"data/valid.tsv\"\n",
    "test_path = \"data/test.tsv\""
   ]
  },
  {
   "cell_type": "code",
   "execution_count": 3,
   "metadata": {},
   "outputs": [],
   "source": [
    "# ✅ Label mapping (Convert to Binary: 1=True, 0=False)\n",
    "LABEL_MAPPING = {\n",
    "    \"true\": 1, \"mostly-true\": 1,\n",
    "    \"half-true\": 0, \"barely-true\": 0, \"false\": 0, \"pants-fire\": 0\n",
    "}"
   ]
  },
  {
   "cell_type": "code",
   "execution_count": 4,
   "metadata": {},
   "outputs": [],
   "source": [
    "# ✅ Function to preprocess dataset\n",
    "def preprocess_data(file_path):\n",
    "    df = pd.read_csv(file_path, sep='\\t', header=None)\n",
    "    df.columns = [\"id\", \"label\", \"statement\", \"subject\", \"speaker\", \"job\", \"state\", \"party\",\n",
    "                  \"context1\", \"context2\", \"context3\", \"context4\", \"context5\", \"source\"]\n",
    "    \n",
    "    # Convert Labels to Binary (1=True, 0=False)\n",
    "    df[\"label\"] = df[\"label\"].map(LABEL_MAPPING)\n",
    "    \n",
    "    # Handle missing values (replace empty cells with \"unknown\")\n",
    "    df.fillna(\"unknown\", inplace=True)\n",
    "\n",
    "    # Add Sentiment Score (extra feature)\n",
    "    df[\"sentiment\"] = df[\"statement\"].apply(lambda x: TextBlob(str(x)).sentiment.polarity)\n",
    "\n",
    "    return df\n"
   ]
  },
  {
   "cell_type": "code",
   "execution_count": 5,
   "metadata": {},
   "outputs": [
    {
     "name": "stdout",
     "output_type": "stream",
     "text": [
      "Train Shape: (10240, 15), Valid Shape: (1284, 15), Test Shape: (1267, 15)\n",
      "           id  label                                          statement  \\\n",
      "0   2635.json      0  Says the Annies List political group supports ...   \n",
      "1  10540.json      0  When did the decline of coal start? It started...   \n",
      "2    324.json      1  Hillary Clinton agrees with John McCain \"by vo...   \n",
      "3   1123.json      0  Health care reform legislation is likely to ma...   \n",
      "4   9028.json      0  The economic turnaround started at the end of ...   \n",
      "\n",
      "                              subject         speaker                   job  \\\n",
      "0                            abortion    dwayne-bohac  State representative   \n",
      "1  energy,history,job-accomplishments  scott-surovell        State delegate   \n",
      "2                      foreign-policy    barack-obama             President   \n",
      "3                         health-care    blog-posting               unknown   \n",
      "4                        economy,jobs   charlie-crist               unknown   \n",
      "\n",
      "      state       party context1 context2 context3 context4 context5  \\\n",
      "0     Texas  republican      0.0      1.0      0.0      0.0      0.0   \n",
      "1  Virginia    democrat      0.0      0.0      1.0      1.0      0.0   \n",
      "2  Illinois    democrat     70.0     71.0    160.0    163.0      9.0   \n",
      "3   unknown        none      7.0     19.0      3.0      5.0     44.0   \n",
      "4   Florida    democrat     15.0      9.0     20.0     19.0      2.0   \n",
      "\n",
      "                source  sentiment  \n",
      "0             a mailer        0.0  \n",
      "1      a floor speech.        0.1  \n",
      "2               Denver        0.0  \n",
      "3       a news release        0.2  \n",
      "4  an interview on CNN        0.2  \n"
     ]
    }
   ],
   "source": [
    "# ✅ Load & Process Datasets\n",
    "train_df = preprocess_data(train_path)\n",
    "valid_df = preprocess_data(valid_path)\n",
    "test_df = preprocess_data(test_path)\n",
    "\n",
    "# ✅ Print dataset stats\n",
    "print(f\"Train Shape: {train_df.shape}, Valid Shape: {valid_df.shape}, Test Shape: {test_df.shape}\")\n",
    "print(train_df.head())"
   ]
  }
 ],
 "metadata": {
  "kernelspec": {
   "display_name": "Python 3",
   "language": "python",
   "name": "python3"
  },
  "language_info": {
   "codemirror_mode": {
    "name": "ipython",
    "version": 3
   },
   "file_extension": ".py",
   "mimetype": "text/x-python",
   "name": "python",
   "nbconvert_exporter": "python",
   "pygments_lexer": "ipython3",
   "version": "3.8.10"
  }
 },
 "nbformat": 4,
 "nbformat_minor": 2
}
